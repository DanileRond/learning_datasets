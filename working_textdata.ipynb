{
  "nbformat": 4,
  "nbformat_minor": 0,
  "metadata": {
    "colab": {
      "name": "working_textdata.ipynb",
      "provenance": [],
      "toc_visible": true,
      "mount_file_id": "16Q5Dg_az1AuZ1DH-iK2C23jA21DEjU-l",
      "authorship_tag": "ABX9TyMocvwIV7aPu0yu3HpcB0xJ",
      "include_colab_link": true
    },
    "kernelspec": {
      "name": "python3",
      "display_name": "Python 3"
    },
    "accelerator": "GPU"
  },
  "cells": [
    {
      "cell_type": "markdown",
      "metadata": {
        "id": "view-in-github",
        "colab_type": "text"
      },
      "source": [
        "<a href=\"https://colab.research.google.com/github/DanileRond/learning_datasets/blob/master/working_textdata.ipynb\" target=\"_parent\"><img src=\"https://colab.research.google.com/assets/colab-badge.svg\" alt=\"Open In Colab\"/></a>"
      ]
    },
    {
      "cell_type": "markdown",
      "metadata": {
        "id": "QeErT_mj-zyl",
        "colab_type": "text"
      },
      "source": [
        "## One-Hot codding per al ús de 'Tensors' (Treballant amb text Tensorflow-Keras) "
      ]
    },
    {
      "cell_type": "code",
      "metadata": {
        "id": "AfZfxJ1QuJ3J",
        "colab_type": "code",
        "colab": {}
      },
      "source": [
        "import numpy as np\n"
      ],
      "execution_count": 0,
      "outputs": []
    },
    {
      "cell_type": "code",
      "metadata": {
        "id": "GE1anHSCuTm5",
        "colab_type": "code",
        "colab": {}
      },
      "source": [
        "samples = ['The cat sat on the mat.', 'The dog ate my homework.']"
      ],
      "execution_count": 0,
      "outputs": []
    },
    {
      "cell_type": "code",
      "metadata": {
        "id": "3MnvE5qUuZsA",
        "colab_type": "code",
        "colab": {}
      },
      "source": [
        "token_index = {}\n",
        "for sample in samples: \n",
        "    for word in sample.split():\n",
        "        if word not in token_index:\n",
        "            token_index[word] = len(token_index) + 1\n",
        "max_length = 10\n",
        "\n"
      ],
      "execution_count": 0,
      "outputs": []
    },
    {
      "cell_type": "code",
      "metadata": {
        "id": "CcXcsXZ-uznL",
        "colab_type": "code",
        "colab": {}
      },
      "source": [
        "results = np.zeros(shape=(len(samples),\n",
        "                          max_length,\n",
        "                          max(token_index.values()) + 1))\n",
        "for i, sample in enumerate(samples):\n",
        "  for j, word in list(enumerate(sample.split())) [:max_length]:\n",
        "    index = token_index.get(word)\n",
        "    results[i,j,index] = 1."
      ],
      "execution_count": 0,
      "outputs": []
    },
    {
      "cell_type": "code",
      "metadata": {
        "id": "0tCi6iYYvSYe",
        "colab_type": "code",
        "outputId": "ac0214b7-6034-4bb8-a03e-79c32ce09d81",
        "colab": {
          "base_uri": "https://localhost:8080/",
          "height": 370
        }
      },
      "source": [
        "print(results)"
      ],
      "execution_count": 0,
      "outputs": [
        {
          "output_type": "stream",
          "text": [
            "[[[0. 1. 0. 0. 0. 0. 0. 0. 0. 0. 0.]\n",
            "  [0. 0. 1. 0. 0. 0. 0. 0. 0. 0. 0.]\n",
            "  [0. 0. 0. 1. 0. 0. 0. 0. 0. 0. 0.]\n",
            "  [0. 0. 0. 0. 1. 0. 0. 0. 0. 0. 0.]\n",
            "  [0. 0. 0. 0. 0. 1. 0. 0. 0. 0. 0.]\n",
            "  [0. 0. 0. 0. 0. 0. 1. 0. 0. 0. 0.]\n",
            "  [0. 0. 0. 0. 0. 0. 0. 0. 0. 0. 0.]\n",
            "  [0. 0. 0. 0. 0. 0. 0. 0. 0. 0. 0.]\n",
            "  [0. 0. 0. 0. 0. 0. 0. 0. 0. 0. 0.]\n",
            "  [0. 0. 0. 0. 0. 0. 0. 0. 0. 0. 0.]]\n",
            "\n",
            " [[0. 1. 0. 0. 0. 0. 0. 0. 0. 0. 0.]\n",
            "  [0. 0. 0. 0. 0. 0. 0. 1. 0. 0. 0.]\n",
            "  [0. 0. 0. 0. 0. 0. 0. 0. 1. 0. 0.]\n",
            "  [0. 0. 0. 0. 0. 0. 0. 0. 0. 1. 0.]\n",
            "  [0. 0. 0. 0. 0. 0. 0. 0. 0. 0. 1.]\n",
            "  [0. 0. 0. 0. 0. 0. 0. 0. 0. 0. 0.]\n",
            "  [0. 0. 0. 0. 0. 0. 0. 0. 0. 0. 0.]\n",
            "  [0. 0. 0. 0. 0. 0. 0. 0. 0. 0. 0.]\n",
            "  [0. 0. 0. 0. 0. 0. 0. 0. 0. 0. 0.]\n",
            "  [0. 0. 0. 0. 0. 0. 0. 0. 0. 0. 0.]]]\n"
          ],
          "name": "stdout"
        }
      ]
    },
    {
      "cell_type": "markdown",
      "metadata": {
        "id": "zLnsTzUp2NMj",
        "colab_type": "text"
      },
      "source": [
        "Una matriu per mostra. A cada mostra tenim 'n' paraules o tokens. Sample(1) te 6 paraules i Sample(2) 5. Fixat en la continuitat del diccionari en la matriu 2 i el mateix valor de vector per a la fila 1, paraula The."
      ]
    },
    {
      "cell_type": "code",
      "metadata": {
        "id": "2C4dJBmmvXSM",
        "colab_type": "code",
        "outputId": "5d8ed6d1-7b9d-41f4-8fe1-5269a3b9812f",
        "colab": {
          "base_uri": "https://localhost:8080/",
          "height": 34
        }
      },
      "source": [
        "token_index['cat']"
      ],
      "execution_count": 0,
      "outputs": [
        {
          "output_type": "execute_result",
          "data": {
            "text/plain": [
              "2"
            ]
          },
          "metadata": {
            "tags": []
          },
          "execution_count": 6
        }
      ]
    },
    {
      "cell_type": "code",
      "metadata": {
        "id": "YyhTd-aNxQuQ",
        "colab_type": "code",
        "outputId": "d7b58a44-11bd-484f-8b06-1564b5652786",
        "colab": {
          "base_uri": "https://localhost:8080/",
          "height": 34
        }
      },
      "source": [
        "print(token_index)"
      ],
      "execution_count": 0,
      "outputs": [
        {
          "output_type": "stream",
          "text": [
            "{'The': 1, 'cat': 2, 'sat': 3, 'on': 4, 'the': 5, 'mat.': 6, 'dog': 7, 'ate': 8, 'my': 9, 'homework.': 10}\n"
          ],
          "name": "stdout"
        }
      ]
    },
    {
      "cell_type": "markdown",
      "metadata": {
        "id": "NLHwyxDnxK8v",
        "colab_type": "text"
      },
      "source": [
        "# One-Hot amb Keras\n",
        "Keras proporciona eines per realitzar el procés anterior de forma més fàcil i ràpida"
      ]
    },
    {
      "cell_type": "code",
      "metadata": {
        "id": "XlqmlHGPyOQ9",
        "colab_type": "code",
        "outputId": "909ecc67-5570-403f-a7ec-623c23eb8749",
        "colab": {
          "base_uri": "https://localhost:8080/",
          "height": 34
        }
      },
      "source": [
        "from keras.preprocessing.text import Tokenizer"
      ],
      "execution_count": 0,
      "outputs": [
        {
          "output_type": "stream",
          "text": [
            "Using TensorFlow backend.\n"
          ],
          "name": "stderr"
        }
      ]
    },
    {
      "cell_type": "code",
      "metadata": {
        "id": "ecgSLrcvyTKR",
        "colab_type": "code",
        "outputId": "18e9b23e-196a-4134-b2e1-bdfecb4ae831",
        "colab": {
          "base_uri": "https://localhost:8080/",
          "height": 34
        }
      },
      "source": [
        "samples"
      ],
      "execution_count": 0,
      "outputs": [
        {
          "output_type": "execute_result",
          "data": {
            "text/plain": [
              "['The cat sat on the mat.', 'The dog ate my homework.']"
            ]
          },
          "metadata": {
            "tags": []
          },
          "execution_count": 9
        }
      ]
    },
    {
      "cell_type": "code",
      "metadata": {
        "id": "8L2J1367yUov",
        "colab_type": "code",
        "colab": {}
      },
      "source": [
        "tokenizer = Tokenizer(num_words=1000)"
      ],
      "execution_count": 0,
      "outputs": []
    },
    {
      "cell_type": "code",
      "metadata": {
        "id": "ART5iZcIycDo",
        "colab_type": "code",
        "colab": {}
      },
      "source": [
        "tokenizer.fit_on_texts(samples)"
      ],
      "execution_count": 0,
      "outputs": []
    },
    {
      "cell_type": "code",
      "metadata": {
        "id": "7flHt53myfrj",
        "colab_type": "code",
        "colab": {}
      },
      "source": [
        "sequences = tokenizer.texts_to_sequences(samples)"
      ],
      "execution_count": 0,
      "outputs": []
    },
    {
      "cell_type": "code",
      "metadata": {
        "id": "EqQv0UBiymfF",
        "colab_type": "code",
        "colab": {}
      },
      "source": [
        "one_hot_results = tokenizer.texts_to_matrix(samples, mode='binary')"
      ],
      "execution_count": 0,
      "outputs": []
    },
    {
      "cell_type": "code",
      "metadata": {
        "id": "oxb3Y8mPyz2j",
        "colab_type": "code",
        "outputId": "a4c465f4-3ddf-4ad2-d000-0b56342c0d64",
        "colab": {
          "base_uri": "https://localhost:8080/",
          "height": 34
        }
      },
      "source": [
        "word_index=tokenizer.word_index\n",
        "print('Found %s unique tokens.' % len(word_index))"
      ],
      "execution_count": 0,
      "outputs": [
        {
          "output_type": "stream",
          "text": [
            "Found 9 unique tokens.\n"
          ],
          "name": "stdout"
        }
      ]
    },
    {
      "cell_type": "markdown",
      "metadata": {
        "id": "meSiOA5k8ku2",
        "colab_type": "text"
      },
      "source": [
        "## Ús de Word Embeddings (Embotir paraules)\n",
        "\n",
        "Per treballar amb tensors que continguin informació de text, no arriba a ser cómode el one-hot. Si ens fixem,el resultat d'aquesta organització són uns vectors molt extens amb un gran volum de 0's. Per tant busquem comprimir en vectors més densos la informació. Aquests vectors es crean i optimitzen buscant relacionar les paraules segons cert significat amb el que treballar. Per exemple: Vector 'Femení' va de la paraula King a Queen. Vector 'Plural' de King a Kings, etc. Aixó crea diccionaris més densos i capaços d'estalivar espai en els vectors anteriors. La manera en que es crean, és a partir de tècniques de backpropagation que podem realitzar a partir de keras. A continuació es veu un exemple amb una bdd de IMDB."
      ]
    },
    {
      "cell_type": "code",
      "metadata": {
        "id": "kGwGYFzZzHy9",
        "colab_type": "code",
        "colab": {}
      },
      "source": [
        "from keras.layers import Embedding"
      ],
      "execution_count": 0,
      "outputs": []
    },
    {
      "cell_type": "code",
      "metadata": {
        "id": "CmykqG7Q2oBf",
        "colab_type": "code",
        "colab": {}
      },
      "source": [
        "embedding_layer = Embedding(1000, 64)"
      ],
      "execution_count": 0,
      "outputs": []
    },
    {
      "cell_type": "code",
      "metadata": {
        "id": "A28eKnSL2sR_",
        "colab_type": "code",
        "colab": {}
      },
      "source": [
        "from keras.datasets import imdb"
      ],
      "execution_count": 0,
      "outputs": []
    },
    {
      "cell_type": "code",
      "metadata": {
        "id": "Rjcie6a45BJ5",
        "colab_type": "code",
        "colab": {}
      },
      "source": [
        "from keras import preprocessing"
      ],
      "execution_count": 0,
      "outputs": []
    },
    {
      "cell_type": "code",
      "metadata": {
        "id": "d5u5Wz9p5DEf",
        "colab_type": "code",
        "colab": {}
      },
      "source": [
        "max_features = 10000\n",
        "maxlen = 20"
      ],
      "execution_count": 0,
      "outputs": []
    },
    {
      "cell_type": "code",
      "metadata": {
        "id": "A5VoTRe35Hgx",
        "colab_type": "code",
        "outputId": "e4091e8b-f6af-41e2-ae5e-562fe8267cf5",
        "colab": {
          "base_uri": "https://localhost:8080/",
          "height": 50
        }
      },
      "source": [
        "(x_train,y_train), (x_test, y_test) = imdb.load_data(num_words=max_features)"
      ],
      "execution_count": 0,
      "outputs": [
        {
          "output_type": "stream",
          "text": [
            "Downloading data from https://s3.amazonaws.com/text-datasets/imdb.npz\n",
            "17465344/17464789 [==============================] - 1s 0us/step\n"
          ],
          "name": "stdout"
        }
      ]
    },
    {
      "cell_type": "code",
      "metadata": {
        "id": "pJWE8emq5TJB",
        "colab_type": "code",
        "colab": {}
      },
      "source": [
        "x_train = preprocessing.sequence.pad_sequences(x_train, maxlen=maxlen)"
      ],
      "execution_count": 0,
      "outputs": []
    },
    {
      "cell_type": "code",
      "metadata": {
        "id": "uVKw-Ezn5nQN",
        "colab_type": "code",
        "colab": {}
      },
      "source": [
        "x_test = preprocessing.sequence.pad_sequences(x_test, maxlen=maxlen)"
      ],
      "execution_count": 0,
      "outputs": []
    },
    {
      "cell_type": "code",
      "metadata": {
        "id": "ZDxljeHt5vts",
        "colab_type": "code",
        "colab": {}
      },
      "source": [
        "from keras.models import Sequential"
      ],
      "execution_count": 0,
      "outputs": []
    },
    {
      "cell_type": "code",
      "metadata": {
        "id": "SPQyoBNQ6F9y",
        "colab_type": "code",
        "colab": {}
      },
      "source": [
        "from keras.layers import Flatten, Dense"
      ],
      "execution_count": 0,
      "outputs": []
    },
    {
      "cell_type": "code",
      "metadata": {
        "id": "NuvxouNB6IPI",
        "colab_type": "code",
        "colab": {}
      },
      "source": [
        "model = Sequential()\n",
        "model.add(Embedding(10000, 8, input_length=maxlen))\n",
        "model.add(Flatten())"
      ],
      "execution_count": 0,
      "outputs": []
    },
    {
      "cell_type": "code",
      "metadata": {
        "id": "pCHNpc6H6WWD",
        "colab_type": "code",
        "colab": {}
      },
      "source": [
        "model.add(Dense(1,activation='sigmoid'))"
      ],
      "execution_count": 0,
      "outputs": []
    },
    {
      "cell_type": "code",
      "metadata": {
        "id": "hMw2ie8h7Aas",
        "colab_type": "code",
        "colab": {}
      },
      "source": [
        "model.compile(optimizer='rmsprop',loss='binary_crossentropy',metrics=['acc'])"
      ],
      "execution_count": 0,
      "outputs": []
    },
    {
      "cell_type": "code",
      "metadata": {
        "id": "XfNgB_g47JJ7",
        "colab_type": "code",
        "outputId": "71dcf847-d9cd-416f-9c50-94ae660fd085",
        "colab": {
          "base_uri": "https://localhost:8080/",
          "height": 252
        }
      },
      "source": [
        "model.summary()"
      ],
      "execution_count": 0,
      "outputs": [
        {
          "output_type": "stream",
          "text": [
            "Model: \"sequential_1\"\n",
            "_________________________________________________________________\n",
            "Layer (type)                 Output Shape              Param #   \n",
            "=================================================================\n",
            "embedding_2 (Embedding)      (None, 20, 8)             80000     \n",
            "_________________________________________________________________\n",
            "flatten_1 (Flatten)          (None, 160)               0         \n",
            "_________________________________________________________________\n",
            "dense_1 (Dense)              (None, 1)                 161       \n",
            "=================================================================\n",
            "Total params: 80,161\n",
            "Trainable params: 80,161\n",
            "Non-trainable params: 0\n",
            "_________________________________________________________________\n"
          ],
          "name": "stdout"
        }
      ]
    },
    {
      "cell_type": "code",
      "metadata": {
        "id": "O9icuOra7K7F",
        "colab_type": "code",
        "outputId": "eb3350db-4d7e-46fa-fab3-079aad12bcc0",
        "colab": {
          "base_uri": "https://localhost:8080/",
          "height": 423
        }
      },
      "source": [
        "history = model.fit(x_train,y_train, epochs=10,batch_size=32,validation_split=0.2)"
      ],
      "execution_count": 0,
      "outputs": [
        {
          "output_type": "stream",
          "text": [
            "/usr/local/lib/python3.6/dist-packages/tensorflow/python/framework/indexed_slices.py:434: UserWarning: Converting sparse IndexedSlices to a dense Tensor of unknown shape. This may consume a large amount of memory.\n",
            "  \"Converting sparse IndexedSlices to a dense Tensor of unknown shape. \"\n"
          ],
          "name": "stderr"
        },
        {
          "output_type": "stream",
          "text": [
            "Train on 20000 samples, validate on 5000 samples\n",
            "Epoch 1/10\n",
            "20000/20000 [==============================] - 3s 166us/step - loss: 0.6687 - acc: 0.6166 - val_loss: 0.6150 - val_acc: 0.7030\n",
            "Epoch 2/10\n",
            "20000/20000 [==============================] - 2s 79us/step - loss: 0.5373 - acc: 0.7516 - val_loss: 0.5226 - val_acc: 0.7338\n",
            "Epoch 3/10\n",
            "20000/20000 [==============================] - 2s 81us/step - loss: 0.4603 - acc: 0.7861 - val_loss: 0.5004 - val_acc: 0.7476\n",
            "Epoch 4/10\n",
            "20000/20000 [==============================] - 2s 83us/step - loss: 0.4245 - acc: 0.8075 - val_loss: 0.4948 - val_acc: 0.7560\n",
            "Epoch 5/10\n",
            "20000/20000 [==============================] - 2s 80us/step - loss: 0.4008 - acc: 0.8198 - val_loss: 0.4953 - val_acc: 0.7570\n",
            "Epoch 6/10\n",
            "20000/20000 [==============================] - 2s 81us/step - loss: 0.3816 - acc: 0.8288 - val_loss: 0.4983 - val_acc: 0.7600\n",
            "Epoch 7/10\n",
            "20000/20000 [==============================] - 2s 81us/step - loss: 0.3649 - acc: 0.8386 - val_loss: 0.5042 - val_acc: 0.7568\n",
            "Epoch 8/10\n",
            "20000/20000 [==============================] - 2s 83us/step - loss: 0.3488 - acc: 0.8501 - val_loss: 0.5073 - val_acc: 0.7576\n",
            "Epoch 9/10\n",
            "20000/20000 [==============================] - 2s 85us/step - loss: 0.3323 - acc: 0.8590 - val_loss: 0.5140 - val_acc: 0.7538\n",
            "Epoch 10/10\n",
            "20000/20000 [==============================] - 2s 83us/step - loss: 0.3168 - acc: 0.8664 - val_loss: 0.5206 - val_acc: 0.7500\n"
          ],
          "name": "stdout"
        }
      ]
    },
    {
      "cell_type": "markdown",
      "metadata": {
        "id": "UO33oqA125Sd",
        "colab_type": "text"
      },
      "source": [
        "### Using Pretrained Word Embeddings"
      ]
    },
    {
      "cell_type": "code",
      "metadata": {
        "id": "gLfGY6Ar3DYT",
        "colab_type": "code",
        "colab": {}
      },
      "source": [
        "import os\n",
        "\n",
        "imdb_dir = '/My Drive/aclImdb'\n",
        "train_dir = os.path.join(imdb_dir,'train')\n",
        "\n",
        "labels = []\n",
        "texts = []\n",
        "\n",
        "for label_type in ['neg','pos']:\n",
        "  dir_name = os.path.join(train_dir, label_type)\n",
        "  for fname in os.listdir(dir_name):\n",
        "    if fname[-4:] == '.txt':\n",
        "      f = open(os.path.join(dir_name,fname))\n",
        "      texts.append(f.read())\n",
        "      f.close()\n",
        "      if label_type == 'neg':\n",
        "        labels.append(0)\n",
        "      else:\n",
        "        labels.append(1)"
      ],
      "execution_count": 0,
      "outputs": []
    },
    {
      "cell_type": "code",
      "metadata": {
        "id": "jVuS9zle_QpI",
        "colab_type": "code",
        "colab": {}
      },
      "source": [
        "from keras.preprocessing.text import Tokenizer\n",
        "from keras.preprocessing.sequence import pad_sequences\n",
        "import numpy as np\n",
        "\n",
        "maxlen = 100\n",
        "training_samples = 200\n",
        "validation_samples = 10000\n",
        "max_words = 10000\n",
        "\n",
        "tokenizer = Tokenizer(num_words = max_words)\n",
        "tokenizer.fit_on_texts(texts)\n",
        "sequences = tokenizer.texts_to_sequences(texts)\n",
        "\n",
        "word_index = tokenizer.word_index\n",
        "print('Found %s unique tokens.' % len(word_index))\n",
        "\n",
        "data = pad_sequences(sequences, maxlen=maxlen)\n",
        "\n",
        "labels = np.asarray(labels)\n",
        "print('Shape of data tensor.' data.shape)\n",
        "print('Shape of label tensor.' labels.shape)\n",
        "\n",
        "indices = np.arange(data.shape[0])\n",
        "np.random.shuffle(indices)\n",
        "data = data[indices]\n",
        "labels = labels[indices]\n",
        "\n",
        "x_train = data[:training_samples]\n",
        "y_train = labels[:training_samples]\n",
        "\n",
        "x_val = data[training_samples: training_samples + validation_samples]\n",
        "y_val = labels[training_samples: training_samples + validation_samples]\n",
        "\n",
        "#Ara anem a descarregar les word embeddings de la basede dades de GloVe."
      ],
      "execution_count": 0,
      "outputs": []
    },
    {
      "cell_type": "code",
      "metadata": {
        "id": "zyAC9QzhB0AJ",
        "colab_type": "code",
        "colab": {}
      },
      "source": [
        "glove_dir = 'glove.6B'"
      ],
      "execution_count": 0,
      "outputs": []
    },
    {
      "cell_type": "markdown",
      "metadata": {
        "id": "7yoz1pGu-p5l",
        "colab_type": "text"
      },
      "source": [
        "# RNN\n"
      ]
    },
    {
      "cell_type": "code",
      "metadata": {
        "id": "wuJcz8nd7jNo",
        "colab_type": "code",
        "colab": {}
      },
      "source": [
        ""
      ],
      "execution_count": 0,
      "outputs": []
    }
  ]
}